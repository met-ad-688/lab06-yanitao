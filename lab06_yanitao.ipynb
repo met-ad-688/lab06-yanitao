{
 "cells": [
  {
   "cell_type": "raw",
   "metadata": {
    "vscode": {
     "languageId": "raw"
    }
   },
   "source": [
    "---\n",
    "title: \"Module 04: Lab 01\"\n",
    "subtitle: \"Visual Reporting and Storytelling\"\n",
    "author: \"Yani Tao\"\n",
    "number-sections: true\n",
    "date: \"2025-03-25\"\n",
    "date-modified: today\n",
    "date-format: long\n",
    "engine: jupyter\n",
    "categories: [\"visualization\",\"plotly\",\"spark\",\"Visual Reporting\",\"Storytelling with Data\",\"Industry-Specific Visualization\",]\n",
    "execute: \n",
    "  eval: true\n",
    "  echo: true\n",
    "---"
   ]
  },
  {
   "cell_type": "markdown",
   "metadata": {
    "vscode": {
     "languageId": "plaintext"
    }
   },
   "source": [
    "# Objectives {.unnumbered}\n",
    "\n",
    "By the end of this lab, you will:\n",
    "1. Load and analyze the **Lightcast dataset** in **Spark DataFrame**.\n",
    "2. Create **five easy and three medium-complexity visualizations** using **Plotly**.\n",
    "3. Explore **salary distributions, employment trends, and job postings**.\n",
    "4. Analyze **skills in relation to NAICS/SOC/ONET codes and salaries**.\n",
    "5. Customize **colors, fonts, and styles** in all visualizations (**default themes result in a 2.5-point deduction**).\n",
    "6. Follow **best practices for reporting on data communication**."
   ]
  },
  {
   "cell_type": "markdown",
   "metadata": {
    "vscode": {
     "languageId": "plaintext"
    }
   },
   "source": [
    "# Step 1: Load the Dataset {.unnumbered}\n"
   ]
  },
  {
   "cell_type": "code",
   "execution_count": 11,
   "metadata": {},
   "outputs": [
    {
     "name": "stdout",
     "output_type": "stream",
     "text": [
      "(32398, 132)\n"
     ]
    },
    {
     "data": {
      "text/html": [
       "<div>\n",
       "<style scoped>\n",
       "    .dataframe tbody tr th:only-of-type {\n",
       "        vertical-align: middle;\n",
       "    }\n",
       "\n",
       "    .dataframe tbody tr th {\n",
       "        vertical-align: top;\n",
       "    }\n",
       "\n",
       "    .dataframe thead th {\n",
       "        text-align: right;\n",
       "    }\n",
       "</style>\n",
       "<table border=\"1\" class=\"dataframe\">\n",
       "  <thead>\n",
       "    <tr style=\"text-align: right;\">\n",
       "      <th></th>\n",
       "      <th>ID</th>\n",
       "      <th>LAST_UPDATED_DATE</th>\n",
       "      <th>LAST_UPDATED_TIMESTAMP</th>\n",
       "      <th>DUPLICATES</th>\n",
       "      <th>POSTED</th>\n",
       "      <th>EXPIRED</th>\n",
       "      <th>DURATION</th>\n",
       "      <th>SOURCE_TYPES</th>\n",
       "      <th>SOURCES</th>\n",
       "      <th>URL</th>\n",
       "      <th>...</th>\n",
       "      <th>NAICS_2022_2_NAME</th>\n",
       "      <th>NAICS_2022_3</th>\n",
       "      <th>NAICS_2022_3_NAME</th>\n",
       "      <th>NAICS_2022_4</th>\n",
       "      <th>NAICS_2022_4_NAME</th>\n",
       "      <th>NAICS_2022_5</th>\n",
       "      <th>NAICS_2022_5_NAME</th>\n",
       "      <th>NAICS_2022_6</th>\n",
       "      <th>NAICS_2022_6_NAME</th>\n",
       "      <th>AVERAGE_SALARY</th>\n",
       "    </tr>\n",
       "  </thead>\n",
       "  <tbody>\n",
       "    <tr>\n",
       "      <th>0</th>\n",
       "      <td>cb5ca25f02bdf25c13edfede7931508bfd9e858f</td>\n",
       "      <td>2024-06-19</td>\n",
       "      <td>2024-06-19 07:00:00.000 Z</td>\n",
       "      <td>0.0</td>\n",
       "      <td>2024-06-02</td>\n",
       "      <td>2024-06-17</td>\n",
       "      <td>15.0</td>\n",
       "      <td>[\\n  \"FreeJobBoard\"\\n]</td>\n",
       "      <td>[\\n  \"craigslist.org\"\\n]</td>\n",
       "      <td>[\\n  \"https://modesto.craigslist.org/sls/77475...</td>\n",
       "      <td>...</td>\n",
       "      <td>Unclassified Industry</td>\n",
       "      <td>999.0</td>\n",
       "      <td>Unclassified Industry</td>\n",
       "      <td>9999.0</td>\n",
       "      <td>Unclassified Industry</td>\n",
       "      <td>99999.0</td>\n",
       "      <td>Unclassified Industry</td>\n",
       "      <td>999999.0</td>\n",
       "      <td>Unclassified Industry</td>\n",
       "      <td>92500.0</td>\n",
       "    </tr>\n",
       "    <tr>\n",
       "      <th>1</th>\n",
       "      <td>35a6cd2183d9fb270e3f504b270f36d43cb759a6</td>\n",
       "      <td>2024-09-06</td>\n",
       "      <td>2024-09-06 20:32:57.352 Z</td>\n",
       "      <td>0.0</td>\n",
       "      <td>2024-06-02</td>\n",
       "      <td>2024-06-12</td>\n",
       "      <td>10.0</td>\n",
       "      <td>[\\n  \"Job Board\"\\n]</td>\n",
       "      <td>[\\n  \"dejobs.org\"\\n]</td>\n",
       "      <td>[\\n  \"https://dejobs.org/little-rock-ar/sr-lea...</td>\n",
       "      <td>...</td>\n",
       "      <td>Information</td>\n",
       "      <td>517.0</td>\n",
       "      <td>Telecommunications</td>\n",
       "      <td>5178.0</td>\n",
       "      <td>All Other Telecommunications</td>\n",
       "      <td>51781.0</td>\n",
       "      <td>All Other Telecommunications</td>\n",
       "      <td>517810.0</td>\n",
       "      <td>All Other Telecommunications</td>\n",
       "      <td>110155.0</td>\n",
       "    </tr>\n",
       "    <tr>\n",
       "      <th>2</th>\n",
       "      <td>229620073766234e814e8add21db7dfaef69b3bd</td>\n",
       "      <td>2024-10-09</td>\n",
       "      <td>2024-10-09 18:07:44.758 Z</td>\n",
       "      <td>0.0</td>\n",
       "      <td>2024-06-02</td>\n",
       "      <td>2024-08-01</td>\n",
       "      <td>NaN</td>\n",
       "      <td>[\\n  \"Company\"\\n]</td>\n",
       "      <td>[\\n  \"3ds.com\"\\n]</td>\n",
       "      <td>[\\n  \"https://www.3ds.com/careers/jobs/sr-mark...</td>\n",
       "      <td>...</td>\n",
       "      <td>Professional, Scientific, and Technical Services</td>\n",
       "      <td>541.0</td>\n",
       "      <td>Professional, Scientific, and Technical Services</td>\n",
       "      <td>5415.0</td>\n",
       "      <td>Computer Systems Design and Related Services</td>\n",
       "      <td>54151.0</td>\n",
       "      <td>Computer Systems Design and Related Services</td>\n",
       "      <td>541511.0</td>\n",
       "      <td>Custom Computer Programming Services</td>\n",
       "      <td>92962.0</td>\n",
       "    </tr>\n",
       "    <tr>\n",
       "      <th>3</th>\n",
       "      <td>b7aa80a24c82f080cca31a8b5b720824eb2b71f3</td>\n",
       "      <td>2024-09-28</td>\n",
       "      <td>2024-09-28 14:06:14.129 Z</td>\n",
       "      <td>8.0</td>\n",
       "      <td>2024-06-02</td>\n",
       "      <td>2024-09-27</td>\n",
       "      <td>NaN</td>\n",
       "      <td>[\\n  \"Government\",\\n  \"Company\",\\n  \"Job Board...</td>\n",
       "      <td>[\\n  \"dcscorp.com\",\\n  \"latpro.com\",\\n  \"ca.go...</td>\n",
       "      <td>[\\n  \"https://www.latpro.com/career/8048496/Da...</td>\n",
       "      <td>...</td>\n",
       "      <td>Wholesale Trade</td>\n",
       "      <td>423.0</td>\n",
       "      <td>Merchant Wholesalers, Durable Goods</td>\n",
       "      <td>4238.0</td>\n",
       "      <td>Machinery, Equipment, and Supplies Merchant Wh...</td>\n",
       "      <td>42383.0</td>\n",
       "      <td>Industrial Machinery and Equipment Merchant Wh...</td>\n",
       "      <td>423830.0</td>\n",
       "      <td>Industrial Machinery and Equipment Merchant Wh...</td>\n",
       "      <td>107645.5</td>\n",
       "    </tr>\n",
       "    <tr>\n",
       "      <th>4</th>\n",
       "      <td>57b527ea0f91db5bb17f82ff3d34dcdb7afe5c13</td>\n",
       "      <td>2024-09-06</td>\n",
       "      <td>2024-09-06 20:32:57.352 Z</td>\n",
       "      <td>0.0</td>\n",
       "      <td>2024-06-02</td>\n",
       "      <td>2024-07-27</td>\n",
       "      <td>55.0</td>\n",
       "      <td>[\\n  \"Job Board\"\\n]</td>\n",
       "      <td>[\\n  \"simplyhired.com\"\\n]</td>\n",
       "      <td>[\\n  \"https://www.simplyhired.com/job/InNNBIUX...</td>\n",
       "      <td>...</td>\n",
       "      <td>Professional, Scientific, and Technical Services</td>\n",
       "      <td>541.0</td>\n",
       "      <td>Professional, Scientific, and Technical Services</td>\n",
       "      <td>5416.0</td>\n",
       "      <td>Management, Scientific, and Technical Consulti...</td>\n",
       "      <td>54161.0</td>\n",
       "      <td>Management Consulting Services</td>\n",
       "      <td>541611.0</td>\n",
       "      <td>Administrative Management and General Manageme...</td>\n",
       "      <td>192800.0</td>\n",
       "    </tr>\n",
       "  </tbody>\n",
       "</table>\n",
       "<p>5 rows × 132 columns</p>\n",
       "</div>"
      ],
      "text/plain": [
       "                                         ID LAST_UPDATED_DATE  \\\n",
       "0  cb5ca25f02bdf25c13edfede7931508bfd9e858f        2024-06-19   \n",
       "1  35a6cd2183d9fb270e3f504b270f36d43cb759a6        2024-09-06   \n",
       "2  229620073766234e814e8add21db7dfaef69b3bd        2024-10-09   \n",
       "3  b7aa80a24c82f080cca31a8b5b720824eb2b71f3        2024-09-28   \n",
       "4  57b527ea0f91db5bb17f82ff3d34dcdb7afe5c13        2024-09-06   \n",
       "\n",
       "      LAST_UPDATED_TIMESTAMP  DUPLICATES     POSTED    EXPIRED  DURATION  \\\n",
       "0  2024-06-19 07:00:00.000 Z         0.0 2024-06-02 2024-06-17      15.0   \n",
       "1  2024-09-06 20:32:57.352 Z         0.0 2024-06-02 2024-06-12      10.0   \n",
       "2  2024-10-09 18:07:44.758 Z         0.0 2024-06-02 2024-08-01       NaN   \n",
       "3  2024-09-28 14:06:14.129 Z         8.0 2024-06-02 2024-09-27       NaN   \n",
       "4  2024-09-06 20:32:57.352 Z         0.0 2024-06-02 2024-07-27      55.0   \n",
       "\n",
       "                                        SOURCE_TYPES  \\\n",
       "0                             [\\n  \"FreeJobBoard\"\\n]   \n",
       "1                                [\\n  \"Job Board\"\\n]   \n",
       "2                                  [\\n  \"Company\"\\n]   \n",
       "3  [\\n  \"Government\",\\n  \"Company\",\\n  \"Job Board...   \n",
       "4                                [\\n  \"Job Board\"\\n]   \n",
       "\n",
       "                                             SOURCES  \\\n",
       "0                           [\\n  \"craigslist.org\"\\n]   \n",
       "1                               [\\n  \"dejobs.org\"\\n]   \n",
       "2                                  [\\n  \"3ds.com\"\\n]   \n",
       "3  [\\n  \"dcscorp.com\",\\n  \"latpro.com\",\\n  \"ca.go...   \n",
       "4                          [\\n  \"simplyhired.com\"\\n]   \n",
       "\n",
       "                                                 URL  ...  \\\n",
       "0  [\\n  \"https://modesto.craigslist.org/sls/77475...  ...   \n",
       "1  [\\n  \"https://dejobs.org/little-rock-ar/sr-lea...  ...   \n",
       "2  [\\n  \"https://www.3ds.com/careers/jobs/sr-mark...  ...   \n",
       "3  [\\n  \"https://www.latpro.com/career/8048496/Da...  ...   \n",
       "4  [\\n  \"https://www.simplyhired.com/job/InNNBIUX...  ...   \n",
       "\n",
       "                                  NAICS_2022_2_NAME NAICS_2022_3  \\\n",
       "0                             Unclassified Industry        999.0   \n",
       "1                                       Information        517.0   \n",
       "2  Professional, Scientific, and Technical Services        541.0   \n",
       "3                                   Wholesale Trade        423.0   \n",
       "4  Professional, Scientific, and Technical Services        541.0   \n",
       "\n",
       "                                  NAICS_2022_3_NAME NAICS_2022_4  \\\n",
       "0                             Unclassified Industry       9999.0   \n",
       "1                                Telecommunications       5178.0   \n",
       "2  Professional, Scientific, and Technical Services       5415.0   \n",
       "3               Merchant Wholesalers, Durable Goods       4238.0   \n",
       "4  Professional, Scientific, and Technical Services       5416.0   \n",
       "\n",
       "                                   NAICS_2022_4_NAME  NAICS_2022_5  \\\n",
       "0                              Unclassified Industry       99999.0   \n",
       "1                       All Other Telecommunications       51781.0   \n",
       "2       Computer Systems Design and Related Services       54151.0   \n",
       "3  Machinery, Equipment, and Supplies Merchant Wh...       42383.0   \n",
       "4  Management, Scientific, and Technical Consulti...       54161.0   \n",
       "\n",
       "                                   NAICS_2022_5_NAME NAICS_2022_6  \\\n",
       "0                              Unclassified Industry     999999.0   \n",
       "1                       All Other Telecommunications     517810.0   \n",
       "2       Computer Systems Design and Related Services     541511.0   \n",
       "3  Industrial Machinery and Equipment Merchant Wh...     423830.0   \n",
       "4                     Management Consulting Services     541611.0   \n",
       "\n",
       "                                   NAICS_2022_6_NAME  AVERAGE_SALARY  \n",
       "0                              Unclassified Industry         92500.0  \n",
       "1                       All Other Telecommunications        110155.0  \n",
       "2               Custom Computer Programming Services         92962.0  \n",
       "3  Industrial Machinery and Equipment Merchant Wh...        107645.5  \n",
       "4  Administrative Management and General Manageme...        192800.0  \n",
       "\n",
       "[5 rows x 132 columns]"
      ]
     },
     "execution_count": 11,
     "metadata": {},
     "output_type": "execute_result"
    }
   ],
   "source": [
    "import pandas as pd\n",
    "import matplotlib.pyplot as plt\n",
    "import seaborn as sns\n",
    "import os\n",
    "\n",
    "# 设置默认风格\n",
    "sns.set(style=\"whitegrid\")\n",
    "plt.rcParams['font.size'] = 10\n",
    "\n",
    "# 读取数据\n",
    "df = pd.read_csv('_output/lightcast_cleaned.csv', parse_dates=['POSTED', 'EXPIRED', 'LAST_UPDATED_DATE'])\n",
    "\n",
    "# 显示数据结构和前几行\n",
    "print(df.shape)\n",
    "df.head()\n"
   ]
  },
  {
   "cell_type": "markdown",
   "metadata": {
    "vscode": {
     "languageId": "plaintext"
    }
   },
   "source": [
    "# Salary Distribution by Employment Type\n",
    "- Identify salary trends across different employment types.\n",
    "- **Filter the dataset**\n",
    "  - Remove records where **salary is missing or zero**.\n",
    "- **Aggregate Data**\n",
    "  - Group by **employment type** and compute salary distribution.\n",
    "- **Visualize results**\n",
    "  - Create a **box plot** where:\n",
    "    - **X-axis** = `EMPLOYMENT_TYPE_NAME`\n",
    "    - **Y-axis** = `SALARY_FROM`\n",
    "  - Customize **colors, fonts, and styles** to avoid a **2.5-point deduction**.\n",
    "- **Explanation:** Write two sentences about what the graph reveals.\n",
    "\n"
   ]
  },
  {
   "cell_type": "code",
   "execution_count": 12,
   "metadata": {},
   "outputs": [],
   "source": [
    "# import pandas as pd\n",
    "import matplotlib.pyplot as plt\n",
    "import seaborn as sns\n",
    "import os\n",
    "\n",
    "sns.set(style=\"whitegrid\")\n",
    "plt.rcParams['font.size'] = 10\n",
    "\n",
    "def plot_salary_by_employment_type(df):\n",
    "    filtered_df = df[df['SALARY_FROM'] > 0]\n",
    "    plt.figure(figsize=(10, 6))\n",
    "    sns.boxplot(x='EMPLOYMENT_TYPE_NAME', y='SALARY_FROM', data=filtered_df, palette='Set2')\n",
    "    plt.title('Salary Distribution by Employment Type')\n",
    "    plt.xlabel('Employment Type')\n",
    "    plt.ylabel('Starting Salary')\n",
    "    plt.tight_layout()\n",
    "    plt.savefig('_output/q1_salary_by_employment_type.svg', format='svg')\n",
    "    plt.close()\n"
   ]
  },
  {
   "cell_type": "markdown",
   "metadata": {},
   "source": [
    "![Salary Distribution by Employment Type](q1_salary_by_employment_type.svg)\n",
    "Full-time employment (more than 32 hours) shows a higher median starting salary compared to part-time roles. However, salary distributions for all employment types include significant outliers, indicating variation within each category."
   ]
  },
  {
   "cell_type": "markdown",
   "metadata": {
    "vscode": {
     "languageId": "plaintext"
    }
   },
   "source": [
    "# Salary Distribution by Industry\n",
    "- Compare salary variations across industries.\n",
    "- **Filter the dataset**\n",
    "  - Keep records where **salary is greater than zero**.\n",
    "- **Aggregate Data**\n",
    "  - Group by **NAICS industry codes**.\n",
    "- **Visualize results**\n",
    "  - Create a **box plot** where:\n",
    "    - **X-axis** = `NAICS2_NAME`\n",
    "    - **Y-axis** = `SALARY_FROM`\n",
    "  - Customize colors, fonts, and styles.\n",
    "- **Explanation:** Write two sentences about what the graph reveals."
   ]
  },
  {
   "cell_type": "code",
   "execution_count": 13,
   "metadata": {},
   "outputs": [],
   "source": [
    "def plot_salary_distribution_by_industry(df):\n",
    "    output_path = '_output/q2_salary_by_industry.svg'\n",
    "\n",
    "    filtered_df = df[df['SALARY_FROM'] > 0].copy()\n",
    "\n",
    "    plt.figure(figsize=(20, 12)) \n",
    "    sns.boxplot(\n",
    "        x='NAICS2_NAME',\n",
    "        y='SALARY_FROM',\n",
    "        data=filtered_df,\n",
    "        palette='cubehelix',\n",
    "        showfliers=False\n",
    "    )\n",
    "    plt.title('Salary Distribution by Industry', fontsize=14)\n",
    "    plt.xlabel('Industry', fontsize=12)\n",
    "    plt.ylabel('Starting Salary', fontsize=12)\n",
    "    plt.xticks(rotation=45, ha='right')\n",
    "    plt.tight_layout()\n",
    "    plt.savefig(output_path, format='svg')\n",
    "    plt.close()"
   ]
  },
  {
   "cell_type": "markdown",
   "metadata": {},
   "source": [
    "![Salary Distribution by Industry](q2_salary_by_industry.svg)\n",
    "Industries such as \"Information\" and \"Professional, Scientific, and Technical Services\" exhibit higher median starting salaries. In contrast, sectors like \"Educational Services\" and “Public Administration” tend to offer lower starting salaries, reflecting industry-based compensation differences."
   ]
  },
  {
   "cell_type": "markdown",
   "metadata": {},
   "source": [
    "# Job Posting Trends Over Time\n",
    "- Analyze how job postings fluctuate over time.\n",
    "- **Aggregate Data**\n",
    "  - Count job postings per **posted date (`POSTED`)**.\n",
    "- **Visualize results**\n",
    "  - Create a **line chart** where:\n",
    "    - **X-axis** = `POSTED`\n",
    "    - **Y-axis** = `Number of Job Postings`\n",
    "  - Apply custom colors and font styles.\n",
    "- **Explanation:** Write two sentences about what the graph reveals."
   ]
  },
  {
   "cell_type": "code",
   "execution_count": 14,
   "metadata": {},
   "outputs": [],
   "source": [
    "def plot_job_trends_over_time(df):\n",
    "    df['POSTED_DATE'] = df['POSTED'].dt.to_period('M')\n",
    "    post_counts = df.groupby('POSTED_DATE').size().reset_index(name='Job Count')\n",
    "    post_counts['POSTED_DATE'] = post_counts['POSTED_DATE'].astype(str)\n",
    "    plt.figure(figsize=(12, 5))\n",
    "    sns.lineplot(x='POSTED_DATE', y='Job Count', data=post_counts, marker='o', color='steelblue')\n",
    "    plt.title('Job Posting Trends Over Time')\n",
    "    plt.xlabel('Posted Date (Month)')\n",
    "    plt.ylabel('Number of Job Postings')\n",
    "    plt.xticks(rotation=45)\n",
    "    plt.tight_layout()\n",
    "    plt.savefig('_output/q3_posting_trend.svg', format='svg')\n",
    "    plt.close()"
   ]
  },
  {
   "cell_type": "markdown",
   "metadata": {},
   "source": [
    "![Job Posting Trends Over Time](q3_posting_trend.svg)\n",
    "Job postings decreased from May to July 2024, hitting a low point in July. However, there was a strong rebound in August and September, indicating renewed hiring activity towards the end of the quarter."
   ]
  },
  {
   "cell_type": "markdown",
   "metadata": {},
   "source": [
    "# Top 10 Job Titles by Count\n",
    "- Identify the most frequently posted job titles.\n",
    "- **Aggregate Data**\n",
    "  - Count the occurrences of each **job title (`TITLE_NAME`)**.\n",
    "  - Select the **top 10 most frequent titles**.\n",
    "- **Visualize results**\n",
    "  - Create a **bar chart** where:\n",
    "    - **X-axis** = `TITLE_NAME`\n",
    "    - **Y-axis** = `Job Count`\n",
    "  - Apply custom colors and font styles.\n",
    "- **Explanation:** Write two sentences about what the graph reveals."
   ]
  },
  {
   "cell_type": "code",
   "execution_count": 15,
   "metadata": {},
   "outputs": [],
   "source": [
    "def plot_top_10_job_titles(df):\n",
    "    top_titles = df['TITLE_NAME'].value_counts().nlargest(10).reset_index()\n",
    "    top_titles.columns = ['TITLE_NAME', 'Job Count']\n",
    "    plt.figure(figsize=(10, 6))\n",
    "    sns.barplot(y='TITLE_NAME', x='Job Count', data=top_titles, palette='mako')\n",
    "    plt.title('Top 10 Job Titles by Count')\n",
    "    plt.xlabel('Job Count')\n",
    "    plt.ylabel('Job Title')\n",
    "    plt.tight_layout()\n",
    "    plt.savefig('_output/q4_top_titles.svg', format='svg')\n",
    "    plt.close()"
   ]
  },
  {
   "cell_type": "markdown",
   "metadata": {},
   "source": [
    "![Top 10 Job Titles](q4_top_titles.svg)\n",
    "\"Data Analysts\" dominate the job postings with a significantly higher count than other titles, highlighting strong demand for data-focused roles. Roles like \"Business Intelligence Analysts\" and \"Enterprise Architects\" also appear frequently, suggesting ongoing needs in analytics and strategic IT planning."
   ]
  },
  {
   "cell_type": "markdown",
   "metadata": {},
   "source": [
    "# Remote vs On-Site Job Postings\n",
    "- Compare the proportion of remote and on-site job postings.\n",
    "- **Aggregate Data**\n",
    "  - Count job postings by **remote type (`REMOTE_TYPE_NAME`)**.\n",
    "- **Visualize results**\n",
    "  - Create a **pie chart** where:\n",
    "    - **Labels** = `REMOTE_TYPE_NAME`\n",
    "    - **Values** = `Job Count`\n",
    "  - Apply custom colors and font styles.\n",
    "- **Explanation:** Write two sentences about what the graph reveals."
   ]
  },
  {
   "cell_type": "code",
   "execution_count": 16,
   "metadata": {},
   "outputs": [],
   "source": [
    "def plot_remote_vs_onsite(df):\n",
    "    remote_counts = df['REMOTE_TYPE_NAME'].value_counts().reset_index()\n",
    "    remote_counts.columns = ['REMOTE_TYPE_NAME', 'Job Count']\n",
    "    plt.figure(figsize=(6, 6))\n",
    "    plt.pie(remote_counts['Job Count'], labels=remote_counts['REMOTE_TYPE_NAME'], autopct='%1.1f%%', colors=sns.color_palette('pastel'))\n",
    "    plt.title('Remote vs On-Site Job Postings')\n",
    "    plt.tight_layout()\n",
    "    plt.savefig('_output/q5_remote_vs_onsite.svg', format='svg')\n",
    "    plt.close()"
   ]
  },
  {
   "cell_type": "markdown",
   "metadata": {},
   "source": [
    "![Remote vs On-Site Job Postings](q5_remote_vs_onsite.svg)\n",
    "A significant portion (73.2%) of job postings lack remote work classification, indicating incomplete labeling or on-site defaults. Among those labeled, 21.3% are remote roles, suggesting a moderate trend toward remote work but still a minority overall."
   ]
  },
  {
   "cell_type": "markdown",
   "metadata": {},
   "source": [
    "# Skill Demand Analysis by Industry (Stacked Bar Chart)\n",
    "- Identify which skills are most in demand in various industries.\n",
    "- **Aggregate Data**\n",
    "  - Extract **skills** from job postings.\n",
    "  - Count occurrences of skills grouped by **NAICS industry codes**.\n",
    "- **Visualize results**\n",
    "  - Create a **stacked bar chart** where:\n",
    "    - **X-axis** = `Industry`\n",
    "    - **Y-axis** = `Skill Count`\n",
    "    - **Color** = `Skill`\n",
    "  - Apply custom colors and font styles.\n",
    "- **Explanation:** Write two sentences about what the graph reveals."
   ]
  },
  {
   "cell_type": "code",
   "execution_count": 17,
   "metadata": {},
   "outputs": [],
   "source": [
    "def plot_skill_demand_stacked(df):\n",
    "    import ast\n",
    "    df['SKILLS_NAME'] = df['SKILLS_NAME'].apply(lambda x: ast.literal_eval(x) if isinstance(x, str) and x.startswith('[') else [])\n",
    "    exploded = df.explode('SKILLS_NAME')\n",
    "    grouped = exploded.groupby(['NAICS2_NAME', 'SKILLS_NAME']).size().reset_index(name='Count')\n",
    "    top_skills = grouped.groupby('SKILLS_NAME')['Count'].sum().nlargest(5).index\n",
    "    filtered = grouped[grouped['SKILLS_NAME'].isin(top_skills)]\n",
    "\n",
    "    pivot = filtered.pivot_table(index='NAICS2_NAME', columns='SKILLS_NAME', values='Count', fill_value=0)\n",
    "\n",
    "    pivot.plot(kind='bar', stacked=True, figsize=(20, 12), colormap='tab20c')\n",
    "    plt.xticks(rotation=45, ha='right') \n",
    "    plt.title('Top 5 Skill Demand by Industry')\n",
    "    plt.ylabel('Skill Count')\n",
    "    plt.xlabel('Industry')\n",
    "    plt.tight_layout()\n",
    "    plt.savefig('_output/q6_skill_stacked.svg', format='svg')\n",
    "    plt.close()"
   ]
  },
  {
   "cell_type": "markdown",
   "metadata": {},
   "source": [
    "![Top 5 Skill Demand by Industry](q6_skill_stacked.svg)\n",
    "Across industries, Communication, Data Analysis, and Management consistently rank among the top demanded skills. Particularly in “Professional, Scientific, and Technical Services” and “Finance and Insurance”, the demand for these core skills is significantly higher, indicating a strong emphasis on both interpersonal and analytical capabilities."
   ]
  },
  {
   "cell_type": "markdown",
   "metadata": {},
   "source": [
    "\n",
    "# Salary Analysis by ONET Occupation Type (Bubble Chart)\n",
    "- Analyze how salaries differ across ONET occupation types.\n",
    "- **Aggregate Data**\n",
    "  - Compute **median salary** for each occupation in the **ONET taxonomy**.\n",
    "- **Visualize results**\n",
    "  - Create a **bubble chart** where:\n",
    "    - **X-axis** = `ONET_NAME`\n",
    "    - **Y-axis** = `Median Salary`\n",
    "    - **Size** = Number of job postings\n",
    "  - Apply custom colors and font styles.\n",
    "- **Explanation:** Write two sentences about what the graph reveals."
   ]
  },
  {
   "cell_type": "code",
   "execution_count": 18,
   "metadata": {},
   "outputs": [],
   "source": [
    "def plot_salary_by_onet_type(df):\n",
    "    onet_group = df.groupby('ONET_NAME').agg({\n",
    "        'SALARY_FROM': 'median',\n",
    "        'TITLE_NAME': 'count'\n",
    "    }).reset_index().rename(columns={'SALARY_FROM': 'Median Salary', 'TITLE_NAME': 'Job Count'})\n",
    "    plt.figure(figsize=(12, 6))\n",
    "    plt.scatter(\n",
    "        onet_group['ONET_NAME'], \n",
    "        onet_group['Median Salary'], \n",
    "        s=onet_group['Job Count'] * 0.2, \n",
    "        alpha=0.6, c=onet_group['Median Salary'], cmap='coolwarm'\n",
    "    )\n",
    "    plt.xticks(rotation=90)\n",
    "    plt.title('Salary by ONET Occupation Type')\n",
    "    plt.xlabel('ONET Type')\n",
    "    plt.ylabel('Median Salary')\n",
    "    plt.tight_layout()\n",
    "    plt.savefig('_output/q7_onet_bubble.svg', format='svg')\n",
    "    plt.close()"
   ]
  },
  {
   "cell_type": "markdown",
   "metadata": {},
   "source": [
    "![Salary by ONET Occupation Type](q7_onet_bubble.svg)\n",
    "The dataset shows only one ONET occupation type, Business Intelligence Analysts, with a median starting salary of around $88,000. The large bubble size reflects a high number of job postings, indicating both strong demand and a concentrated occupation type in this dataset."
   ]
  },
  {
   "cell_type": "markdown",
   "metadata": {},
   "source": [
    "# Career Pathway Trends (Sankey Diagram)\n",
    "- Visualize job transitions between different occupation levels.\n",
    "- **Aggregate Data**\n",
    "  - Identify career transitions between **SOC job classifications**.\n",
    "- **Visualize results**\n",
    "  - Create a **Sankey diagram** where:\n",
    "    - **Source** = `SOC_2021_2_NAME`\n",
    "    - **Target** = `SOC_2021_3_NAME`\n",
    "    - **Value** = Number of transitions\n",
    "  - Apply custom colors and font styles.\n",
    "- **Explanation:** Write two sentences about what the graph reveals."
   ]
  },
  {
   "cell_type": "code",
   "execution_count": 19,
   "metadata": {},
   "outputs": [],
   "source": [
    "def plot_career_path_sankey(df):\n",
    "    import plotly.graph_objects as go\n",
    "    df_path = df[['SOC_2021_2_NAME', 'SOC_2021_3_NAME']].dropna()\n",
    "    path_counts = df_path.groupby(['SOC_2021_2_NAME', 'SOC_2021_3_NAME']).size().reset_index(name='Count')\n",
    "    all_nodes = list(set(path_counts['SOC_2021_2_NAME']) | set(path_counts['SOC_2021_3_NAME']))\n",
    "    node_indices = {k: v for v, k in enumerate(all_nodes)}\n",
    "    fig = go.Figure(data=[go.Sankey(\n",
    "        node=dict(label=all_nodes),\n",
    "        link=dict(\n",
    "            source=path_counts['SOC_2021_2_NAME'].map(node_indices),\n",
    "            target=path_counts['SOC_2021_3_NAME'].map(node_indices),\n",
    "            value=path_counts['Count']\n",
    "        )\n",
    "    )])\n",
    "    fig.write_image('_output/q8_career_sankey.svg')"
   ]
  },
  {
   "cell_type": "markdown",
   "metadata": {},
   "source": [
    "![Career Pathway Sankey](q8_career_sankey.svg)\n",
    "The Sankey diagram shows a single career transition from Computer and Mathematical Occupations to Mathematical Science Occupations."
   ]
  }
 ],
 "metadata": {
  "kernelspec": {
   "display_name": "env",
   "language": "python",
   "name": "python3"
  },
  "language_info": {
   "codemirror_mode": {
    "name": "ipython",
    "version": 3
   },
   "file_extension": ".py",
   "mimetype": "text/x-python",
   "name": "python",
   "nbconvert_exporter": "python",
   "pygments_lexer": "ipython3",
   "version": "3.12.3"
  }
 },
 "nbformat": 4,
 "nbformat_minor": 2
}
